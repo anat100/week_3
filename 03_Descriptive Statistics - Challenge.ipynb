{
 "cells": [
  {
   "cell_type": "code",
   "execution_count": 3,
   "id": "5b8160c5",
   "metadata": {},
   "outputs": [],
   "source": [
    "\n",
    "import pandas as pd"
   ]
  },
  {
   "cell_type": "code",
   "execution_count": 6,
   "id": "60826fe8",
   "metadata": {},
   "outputs": [
    {
     "data": {
      "text/html": [
       "<div>\n",
       "<style scoped>\n",
       "    .dataframe tbody tr th:only-of-type {\n",
       "        vertical-align: middle;\n",
       "    }\n",
       "\n",
       "    .dataframe tbody tr th {\n",
       "        vertical-align: top;\n",
       "    }\n",
       "\n",
       "    .dataframe thead th {\n",
       "        text-align: right;\n",
       "    }\n",
       "</style>\n",
       "<table border=\"1\" class=\"dataframe\">\n",
       "  <thead>\n",
       "    <tr style=\"text-align: right;\">\n",
       "      <th></th>\n",
       "      <th>Country</th>\n",
       "      <th>Year</th>\n",
       "      <th>Life_Expectancy</th>\n",
       "    </tr>\n",
       "  </thead>\n",
       "  <tbody>\n",
       "    <tr>\n",
       "      <th>0</th>\n",
       "      <td>Afghanistan</td>\n",
       "      <td>1950</td>\n",
       "      <td>26.85</td>\n",
       "    </tr>\n",
       "    <tr>\n",
       "      <th>1</th>\n",
       "      <td>Albania</td>\n",
       "      <td>1950</td>\n",
       "      <td>54.48</td>\n",
       "    </tr>\n",
       "    <tr>\n",
       "      <th>2</th>\n",
       "      <td>Algeria</td>\n",
       "      <td>1950</td>\n",
       "      <td>42.77</td>\n",
       "    </tr>\n",
       "    <tr>\n",
       "      <th>3</th>\n",
       "      <td>Angola</td>\n",
       "      <td>1950</td>\n",
       "      <td>30.70</td>\n",
       "    </tr>\n",
       "    <tr>\n",
       "      <th>4</th>\n",
       "      <td>Antigua and Barbuda</td>\n",
       "      <td>1950</td>\n",
       "      <td>57.97</td>\n",
       "    </tr>\n",
       "    <tr>\n",
       "      <th>...</th>\n",
       "      <td>...</td>\n",
       "      <td>...</td>\n",
       "      <td>...</td>\n",
       "    </tr>\n",
       "    <tr>\n",
       "      <th>13702</th>\n",
       "      <td>Virgin Islands (U.S.)</td>\n",
       "      <td>2016</td>\n",
       "      <td>80.82</td>\n",
       "    </tr>\n",
       "    <tr>\n",
       "      <th>13703</th>\n",
       "      <td>Yemen</td>\n",
       "      <td>2016</td>\n",
       "      <td>64.92</td>\n",
       "    </tr>\n",
       "    <tr>\n",
       "      <th>13704</th>\n",
       "      <td>Zambia</td>\n",
       "      <td>2016</td>\n",
       "      <td>57.10</td>\n",
       "    </tr>\n",
       "    <tr>\n",
       "      <th>13705</th>\n",
       "      <td>Zimbabwe</td>\n",
       "      <td>2016</td>\n",
       "      <td>61.69</td>\n",
       "    </tr>\n",
       "    <tr>\n",
       "      <th>13706</th>\n",
       "      <td>South Sudan</td>\n",
       "      <td>2016</td>\n",
       "      <td>56.10</td>\n",
       "    </tr>\n",
       "  </tbody>\n",
       "</table>\n",
       "<p>13707 rows × 3 columns</p>\n",
       "</div>"
      ],
      "text/plain": [
       "                     Country  Year  Life_Expectancy\n",
       "0                Afghanistan  1950            26.85\n",
       "1                    Albania  1950            54.48\n",
       "2                    Algeria  1950            42.77\n",
       "3                     Angola  1950            30.70\n",
       "4        Antigua and Barbuda  1950            57.97\n",
       "...                      ...   ...              ...\n",
       "13702  Virgin Islands (U.S.)  2016            80.82\n",
       "13703                  Yemen  2016            64.92\n",
       "13704                 Zambia  2016            57.10\n",
       "13705               Zimbabwe  2016            61.69\n",
       "13706            South Sudan  2016            56.10\n",
       "\n",
       "[13707 rows x 3 columns]"
      ]
     },
     "execution_count": 6,
     "metadata": {},
     "output_type": "execute_result"
    }
   ],
   "source": [
    "# 1. read the life expectancy cleaned dataset into your notebook (the dataset you created in Data Cleansing before). If you want to use country as the index you may use the `index_col` parameter while reading it from the file:\n",
    "\n",
    "life_df = pd.read_csv('Life_expectancy_clean.csv')\n",
    "life_df\n"
   ]
  },
  {
   "cell_type": "code",
   "execution_count": 8,
   "id": "cff194b2",
   "metadata": {},
   "outputs": [
    {
     "name": "stdout",
     "output_type": "stream",
     "text": [
      "62.98883344276646\n"
     ]
    }
   ],
   "source": [
    "# 2. calculate the mean life expectancy\n",
    "\n",
    "print(life_df['Life_Expectancy'].mean())"
   ]
  },
  {
   "cell_type": "code",
   "execution_count": 9,
   "id": "843a845b",
   "metadata": {},
   "outputs": [
    {
     "name": "stdout",
     "output_type": "stream",
     "text": [
      "              Country  Year  Life_Expectancy\n",
      "10163     Afghanistan  2000             50.1\n",
      "10164         Albania  2000             74.7\n",
      "10165         Algeria  2000             73.3\n",
      "10166  American Samoa  2000             71.7\n",
      "10167         Andorra  2000             83.7\n",
      "...               ...   ...              ...\n",
      "10367           Yemen  2000             62.4\n",
      "10368          Zambia  2000             44.8\n",
      "10369        Zimbabwe  2000             47.9\n",
      "10370           Åland  2000             80.0\n",
      "10371     South Sudan  2000             54.4\n",
      "\n",
      "[209 rows x 3 columns]\n",
      "68.0777033492823\n"
     ]
    }
   ],
   "source": [
    "# 3. calculate the mean life expectancy for the year 2000\n",
    "\n",
    "life_2000 = life_df[life_df['Year']==2000]\n",
    "\n",
    "print(life_2000)\n",
    "\n",
    "print(life_2000['Life_Expectancy'].mean())"
   ]
  },
  {
   "cell_type": "code",
   "execution_count": 10,
   "id": "96f24bb8",
   "metadata": {},
   "outputs": [
    {
     "name": "stdout",
     "output_type": "stream",
     "text": [
      "70.0\n"
     ]
    }
   ],
   "source": [
    "# 4. calculate the median for 1995\n",
    "\n",
    "life_1995 = life_df[life_df['Year']==1995]\n",
    "\n",
    "print(life_1995['Life_Expectancy'].median())"
   ]
  },
  {
   "cell_type": "code",
   "execution_count": 11,
   "id": "6ffaee4e",
   "metadata": {},
   "outputs": [],
   "source": [
    "# 5. calculate the standard deviation\n",
    "import numpy as np"
   ]
  },
  {
   "cell_type": "code",
   "execution_count": 13,
   "id": "3320bdc1",
   "metadata": {},
   "outputs": [
    {
     "name": "stdout",
     "output_type": "stream",
     "text": [
      "11.895137868612986\n"
     ]
    }
   ],
   "source": [
    "print(np.std(life_df['Life_Expectancy']))"
   ]
  },
  {
   "cell_type": "code",
   "execution_count": 14,
   "id": "c23ffa89",
   "metadata": {},
   "outputs": [
    {
     "name": "stdout",
     "output_type": "stream",
     "text": [
      "84.8\n"
     ]
    }
   ],
   "source": [
    "# 6. find the highest life expectancy\n",
    "\n",
    "print(life_df['Life_Expectancy'].max())"
   ]
  },
  {
   "cell_type": "code",
   "execution_count": 15,
   "id": "913b64a6",
   "metadata": {},
   "outputs": [
    {
     "name": "stdout",
     "output_type": "stream",
     "text": [
      "Country            Andorra\n",
      "Year                  2013\n",
      "Life_Expectancy       84.8\n",
      "Name: 12879, dtype: object\n"
     ]
    }
   ],
   "source": [
    "# 7. find the country and year for the highest life expectancy\n",
    "\n",
    "max_life_expectancy_row = life_df['Life_Expectancy'].idxmax()\n",
    "\n",
    "print(life_df.loc[max_life_expectancy_row])"
   ]
  },
  {
   "cell_type": "code",
   "execution_count": 16,
   "id": "b021917a",
   "metadata": {},
   "outputs": [
    {
     "name": "stdout",
     "output_type": "stream",
     "text": [
      "13.2\n"
     ]
    }
   ],
   "source": [
    "# 8. find the lowest life expectancy\n",
    "\n",
    "print(life_df['Life_Expectancy'].min())"
   ]
  },
  {
   "cell_type": "code",
   "execution_count": 17,
   "id": "3efa2c48",
   "metadata": {},
   "outputs": [
    {
     "name": "stdout",
     "output_type": "stream",
     "text": [
      "Country            Rwanda\n",
      "Year                 1994\n",
      "Life_Expectancy      13.2\n",
      "Name: 9068, dtype: object\n"
     ]
    }
   ],
   "source": [
    "# 9. find the country and year was the lowest life expectancy\n",
    "\n",
    "min_life_expectancy_row = life_df['Life_Expectancy'].idxmin()\n",
    "\n",
    "print(life_df.loc[min_life_expectancy_row])"
   ]
  },
  {
   "cell_type": "code",
   "execution_count": 18,
   "id": "2d9d3829",
   "metadata": {},
   "outputs": [
    {
     "name": "stdout",
     "output_type": "stream",
     "text": [
      "76.4\n"
     ]
    }
   ],
   "source": [
    "# 10. find the 90% quantile of the life expectancy\n",
    "\n",
    "print(life_df['Life_Expectancy'].quantile(0.9))"
   ]
  },
  {
   "cell_type": "code",
   "execution_count": 19,
   "id": "1111b428",
   "metadata": {},
   "outputs": [
    {
     "data": {
      "text/html": [
       "<div>\n",
       "<style scoped>\n",
       "    .dataframe tbody tr th:only-of-type {\n",
       "        vertical-align: middle;\n",
       "    }\n",
       "\n",
       "    .dataframe tbody tr th {\n",
       "        vertical-align: top;\n",
       "    }\n",
       "\n",
       "    .dataframe thead th {\n",
       "        text-align: right;\n",
       "    }\n",
       "</style>\n",
       "<table border=\"1\" class=\"dataframe\">\n",
       "  <thead>\n",
       "    <tr style=\"text-align: right;\">\n",
       "      <th></th>\n",
       "      <th>Year</th>\n",
       "      <th>Life_Expectancy</th>\n",
       "    </tr>\n",
       "  </thead>\n",
       "  <tbody>\n",
       "    <tr>\n",
       "      <th>count</th>\n",
       "      <td>13707.000000</td>\n",
       "      <td>13707.000000</td>\n",
       "    </tr>\n",
       "    <tr>\n",
       "      <th>mean</th>\n",
       "      <td>1983.251550</td>\n",
       "      <td>62.988833</td>\n",
       "    </tr>\n",
       "    <tr>\n",
       "      <th>std</th>\n",
       "      <td>19.364466</td>\n",
       "      <td>11.895572</td>\n",
       "    </tr>\n",
       "    <tr>\n",
       "      <th>min</th>\n",
       "      <td>1950.000000</td>\n",
       "      <td>13.200000</td>\n",
       "    </tr>\n",
       "    <tr>\n",
       "      <th>25%</th>\n",
       "      <td>1966.000000</td>\n",
       "      <td>54.815000</td>\n",
       "    </tr>\n",
       "    <tr>\n",
       "      <th>50%</th>\n",
       "      <td>1983.000000</td>\n",
       "      <td>65.570000</td>\n",
       "    </tr>\n",
       "    <tr>\n",
       "      <th>75%</th>\n",
       "      <td>2000.000000</td>\n",
       "      <td>72.230000</td>\n",
       "    </tr>\n",
       "    <tr>\n",
       "      <th>max</th>\n",
       "      <td>2016.000000</td>\n",
       "      <td>84.800000</td>\n",
       "    </tr>\n",
       "  </tbody>\n",
       "</table>\n",
       "</div>"
      ],
      "text/plain": [
       "               Year  Life_Expectancy\n",
       "count  13707.000000     13707.000000\n",
       "mean    1983.251550        62.988833\n",
       "std       19.364466        11.895572\n",
       "min     1950.000000        13.200000\n",
       "25%     1966.000000        54.815000\n",
       "50%     1983.000000        65.570000\n",
       "75%     2000.000000        72.230000\n",
       "max     2016.000000        84.800000"
      ]
     },
     "execution_count": 19,
     "metadata": {},
     "output_type": "execute_result"
    }
   ],
   "source": [
    "# 11. calculate min, max, mean and possibly other descriptors with a single line\n",
    "life_df.describe()"
   ]
  },
  {
   "cell_type": "code",
   "execution_count": null,
   "id": "9e5f351a",
   "metadata": {},
   "outputs": [],
   "source": []
  }
 ],
 "metadata": {
  "kernelspec": {
   "display_name": "Python 3 (ipykernel)",
   "language": "python",
   "name": "python3"
  },
  "language_info": {
   "codemirror_mode": {
    "name": "ipython",
    "version": 3
   },
   "file_extension": ".py",
   "mimetype": "text/x-python",
   "name": "python",
   "nbconvert_exporter": "python",
   "pygments_lexer": "ipython3",
   "version": "3.11.4"
  }
 },
 "nbformat": 4,
 "nbformat_minor": 5
}
